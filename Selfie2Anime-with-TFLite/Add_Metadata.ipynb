{
 "cells": [
  {
   "cell_type": "markdown",
   "metadata": {
    "colab_type": "text",
    "id": "gKfbp8hjNX_t"
   },
   "source": [
    "## Add metadata to selfie2anime.tflite\n",
    "\n",
    "This Colab Notebook adds metadata to the selfie2anime.tflite which enables CodeGen in Android Studio with ML Model Binding."
   ]
  },
  {
   "cell_type": "code",
   "execution_count": 1,
   "metadata": {
    "colab": {
     "base_uri": "https://localhost:8080/",
     "height": 292
    },
    "colab_type": "code",
    "executionInfo": {
     "elapsed": 52801,
     "status": "ok",
     "timestamp": 1594577251583,
     "user": {
      "displayName": "Margaret Maynard-Reid",
      "photoUrl": "https://lh3.googleusercontent.com/a-/AOh14GgBa13gkRUNv_UA_mrkEwEtgxT1y2kmzexWg0XKQd0=s64",
      "userId": "16644161164743621476"
     },
     "user_tz": 420
    },
    "id": "Xn71TnUirD7D",
    "outputId": "13260361-03f5-46a9-8069-4d74a543d46d"
   },
   "outputs": [
    {
     "name": "stdout",
     "output_type": "stream",
     "text": [
      "Note: you may need to restart the kernel to use updated packages.\n"
     ]
    }
   ],
   "source": [
    "%pip install tflite-support -q"
   ]
  },
  {
   "cell_type": "code",
   "execution_count": 2,
   "metadata": {
    "colab": {},
    "colab_type": "code",
    "id": "fwBU4CHXpNwT"
   },
   "outputs": [],
   "source": [
    "import os\n",
    "import tensorflow as tf\n",
    "from absl import flags"
   ]
  },
  {
   "cell_type": "code",
   "execution_count": 3,
   "metadata": {
    "colab": {},
    "colab_type": "code",
    "id": "6x4MEcCvJgrT"
   },
   "outputs": [],
   "source": [
    "from tflite_support import flatbuffers\n",
    "from tflite_support import metadata as _metadata\n",
    "from tflite_support import metadata_schema_py_generated as _metadata_fb"
   ]
  },
  {
   "cell_type": "markdown",
   "metadata": {},
   "source": [
    "Create 2 directories, and manually upload the original selfie2anime.tflite to the /model_without_metadata folder"
   ]
  },
  {
   "cell_type": "code",
   "execution_count": 4,
   "metadata": {
    "colab": {},
    "colab_type": "code",
    "id": "PwPskqPj2MVS"
   },
   "outputs": [],
   "source": [
    "# The original selfie2anime.tflite file\n",
    "MODEL_FILE = \"./model_without_metadata/selfie2anime.tflite\"\n",
    "# This is where we will export a new .tflite model file with metadata, and a .json file with metadata info\n",
    "EXPORT_DIR = \"./model_with_metadata\""
   ]
  },
  {
   "cell_type": "code",
   "execution_count": 5,
   "metadata": {
    "colab": {},
    "colab_type": "code",
    "id": "YqcWmNMNUS1D"
   },
   "outputs": [],
   "source": [
    "class MetadataPopulatorForGANModel(object):\n",
    "  \"\"\"Populates the metadata for the selfie2anime model.\"\"\"\n",
    "\n",
    "  def __init__(self, model_file):\n",
    "    self.model_file = model_file\n",
    "    self.metadata_buf = None\n",
    "\n",
    "  def populate(self):\n",
    "    \"\"\"Creates metadata and thesn populates it for a style transfer model.\"\"\"\n",
    "    self._create_metadata()\n",
    "    self._populate_metadata()\n",
    "  \n",
    "  def _create_metadata(self):\n",
    "    \"\"\"Creates the metadata for the selfie2anime model.\"\"\"\n",
    "\n",
    "    # Creates model info.\n",
    "    model_meta = _metadata_fb.ModelMetadataT()\n",
    "    model_meta.name = \"Selfie2Anime\" \n",
    "    model_meta.description = (\"Convert selfie to anime.\")\n",
    "    model_meta.version = \"v1\"\n",
    "    model_meta.author = \"TensorFlow\"\n",
    "    model_meta.license = (\"Apache License. Version 2.0 \"\n",
    "                          \"http://www.apache.org/licenses/LICENSE-2.0.\")\n",
    "\n",
    "    # Creates info for the input, selfie image.\n",
    "    input_image_meta = _metadata_fb.TensorMetadataT()\n",
    "    input_image_meta.name = \"selfie_image\"\n",
    "    input_image_meta.description = (\n",
    "        \"The expected image is 256 x 256, with three channels \"\n",
    "        \"(red, blue, and green) per pixel. Each value in the tensor is between\"\n",
    "        \" 0 and 1.\")\n",
    "    input_image_meta.content = _metadata_fb.ContentT()\n",
    "    input_image_meta.content.contentProperties = (\n",
    "        _metadata_fb.ImagePropertiesT())\n",
    "    input_image_meta.content.contentProperties.colorSpace = (\n",
    "        _metadata_fb.ColorSpaceType.RGB)\n",
    "    input_image_meta.content.contentPropertiesType = (\n",
    "        _metadata_fb.ContentProperties.ImageProperties)\n",
    "    input_image_normalization = _metadata_fb.ProcessUnitT()\n",
    "    input_image_normalization.optionsType = (\n",
    "        _metadata_fb.ProcessUnitOptions.NormalizationOptions)\n",
    "    input_image_normalization.options = _metadata_fb.NormalizationOptionsT()\n",
    "    input_image_normalization.options.mean = [0.0]\n",
    "    input_image_normalization.options.std = [255]\n",
    "    input_image_meta.processUnits = [input_image_normalization]\n",
    "    input_image_stats = _metadata_fb.StatsT()\n",
    "    input_image_stats.max = [1.0]\n",
    "    input_image_stats.min = [0.0]\n",
    "    input_image_meta.stats = input_image_stats\n",
    "\n",
    "\n",
    "    # Creates output info, anime image\n",
    "    output_image_meta = _metadata_fb.TensorMetadataT()\n",
    "    output_image_meta.name = \"anime_image\"\n",
    "    output_image_meta.description = \"Image styled.\"\n",
    "    output_image_meta.content = _metadata_fb.ContentT()\n",
    "    output_image_meta.content.contentProperties = _metadata_fb.ImagePropertiesT()\n",
    "    output_image_meta.content.contentProperties.colorSpace = (\n",
    "        _metadata_fb.ColorSpaceType.RGB)\n",
    "    output_image_meta.content.contentPropertiesType = (\n",
    "        _metadata_fb.ContentProperties.ImageProperties)\n",
    "    output_image_normalization = _metadata_fb.ProcessUnitT()\n",
    "    output_image_normalization.optionsType = (\n",
    "        _metadata_fb.ProcessUnitOptions.NormalizationOptions)\n",
    "    output_image_normalization.options = _metadata_fb.NormalizationOptionsT()\n",
    "    output_image_normalization.options.mean = [0.0]\n",
    "    output_image_normalization.options.std = [0.003921568627]  # 1/255\n",
    "    output_image_meta.processUnits = [output_image_normalization]\n",
    "    output_image_stats = _metadata_fb.StatsT()\n",
    "    output_image_stats.max = [1.0]\n",
    "    output_image_stats.min = [0.0]\n",
    "    output_image_meta.stats = output_image_stats\n",
    "\n",
    "    # Creates subgraph info.\n",
    "    subgraph = _metadata_fb.SubGraphMetadataT()\n",
    "    subgraph.inputTensorMetadata = [input_image_meta] \n",
    "    subgraph.outputTensorMetadata = [output_image_meta] \n",
    "    model_meta.subgraphMetadata = [subgraph]\n",
    "\n",
    "    b = flatbuffers.Builder(0)\n",
    "    b.Finish(\n",
    "        model_meta.Pack(b),\n",
    "        _metadata.MetadataPopulator.METADATA_FILE_IDENTIFIER)\n",
    "    self.metadata_buf = b.Output()\n",
    "\n",
    "  def _populate_metadata(self):\n",
    "    \"\"\"Populates metadata to the model file.\"\"\"\n",
    "    populator = _metadata.MetadataPopulator.with_model_file(self.model_file)\n",
    "    populator.load_metadata_buffer(self.metadata_buf)\n",
    "    populator.populate()"
   ]
  },
  {
   "cell_type": "code",
   "execution_count": 6,
   "metadata": {
    "colab": {},
    "colab_type": "code",
    "id": "CxwBoinwoAjC"
   },
   "outputs": [],
   "source": [
    "def populate_metadata(model_file):\n",
    "  \"\"\"Populates the metadata using the populator specified.\n",
    "  Args:\n",
    "      model_file: valid path to the model file.\n",
    "      model_type: a type defined in StyleTransferModelType .\n",
    "  \"\"\"\n",
    "\n",
    "  # Populates metadata for the model.\n",
    "  model_file_basename = os.path.basename(model_file)\n",
    "  export_path = os.path.join(EXPORT_DIR, model_file_basename)\n",
    "  tf.io.gfile.copy(model_file, export_path, overwrite=True)\n",
    "\n",
    "  populator = MetadataPopulatorForGANModel(export_path) \n",
    "  populator.populate()\n",
    "\n",
    "  # Displays the metadata that was just populated into the tflite model.\n",
    "  displayer = _metadata.MetadataDisplayer.with_model_file(export_path)\n",
    "  export_json_file = os.path.join(\n",
    "      EXPORT_DIR,\n",
    "      os.path.splitext(model_file_basename)[0] + \".json\")\n",
    "  json_file = displayer.get_metadata_json()\n",
    "  with open(export_json_file, \"w\") as f:\n",
    "    f.write(json_file)\n",
    "  print(\"Finished populating metadata and associated file to the model:\")\n",
    "  print(export_path)\n",
    "  print(\"The metadata json file has been saved to:\")\n",
    "  print(os.path.join(EXPORT_DIR,\n",
    "                   os.path.splitext(model_file_basename)[0] + \".json\"))"
   ]
  },
  {
   "cell_type": "code",
   "execution_count": 7,
   "metadata": {
    "colab": {
     "base_uri": "https://localhost:8080/",
     "height": 85
    },
    "colab_type": "code",
    "executionInfo": {
     "elapsed": 628,
     "status": "ok",
     "timestamp": 1594577516474,
     "user": {
      "displayName": "Margaret Maynard-Reid",
      "photoUrl": "https://lh3.googleusercontent.com/a-/AOh14GgBa13gkRUNv_UA_mrkEwEtgxT1y2kmzexWg0XKQd0=s64",
      "userId": "16644161164743621476"
     },
     "user_tz": 420
    },
    "id": "jGb6149poE4s",
    "outputId": "2d2b9fa3-c695-40bb-d214-a63cd2ae2ff5"
   },
   "outputs": [
    {
     "name": "stdout",
     "output_type": "stream",
     "text": [
      "Finished populating metadata and associated file to the model:\n",
      "./model_with_metadata\\selfie2anime.tflite\n",
      "The metadata json file has been saved to:\n",
      "./model_with_metadata\\selfie2anime.json\n"
     ]
    }
   ],
   "source": [
    "populate_metadata(MODEL_FILE)"
   ]
  }
 ],
 "metadata": {
  "colab": {
   "authorship_tag": "ABX9TyOaLsv51LyAUJ3yokY2yPOX",
   "collapsed_sections": [],
   "name": "Add metadata to selfie2anime.ipynb",
   "provenance": [
    {
     "file_id": "1RvJ2aNz_R4SLT-IKpKf1RtKio-CrmwbX",
     "timestamp": 1594576794908
    }
   ],
   "toc_visible": true
  },
  "kernelspec": {
   "display_name": ".venv",
   "language": "python",
   "name": "python3"
  },
  "language_info": {
   "codemirror_mode": {
    "name": "ipython",
    "version": 3
   },
   "file_extension": ".py",
   "mimetype": "text/x-python",
   "name": "python",
   "nbconvert_exporter": "python",
   "pygments_lexer": "ipython3",
   "version": "3.6.8"
  }
 },
 "nbformat": 4,
 "nbformat_minor": 0
}
